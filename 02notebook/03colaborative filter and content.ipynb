{
 "cells": [
  {
   "cell_type": "code",
   "execution_count": 24,
   "metadata": {},
   "outputs": [
    {
     "name": "stdout",
     "output_type": "stream",
     "text": [
      "<class 'pandas.core.frame.DataFrame'>\n",
      "RangeIndex: 2167848 entries, 0 to 2167847\n",
      "Data columns (total 9 columns):\n",
      " #   Column              Dtype         \n",
      "---  ------              -----         \n",
      " 0   fecha_compra        datetime64[ns]\n",
      " 1   customer_id         object        \n",
      " 2   product_id          object        \n",
      " 3   type_id             object        \n",
      " 4   business_id         object        \n",
      " 5   channel_id          object        \n",
      " 6   cantidad_venta      float64       \n",
      " 7   monto_venta_transf  float64       \n",
      " 8   peso_venta_transf   float64       \n",
      "dtypes: datetime64[ns](1), float64(3), object(5)\n",
      "memory usage: 148.9+ MB\n"
     ]
    }
   ],
   "source": [
    "import pandas as pd\n",
    "import numpy as np\n",
    "import matplotlib.pyplot as plt\n",
    "import seaborn as sns\n",
    "import os\n",
    "from sklearn.decomposition import TruncatedSVD\n",
    "from scipy.sparse import csr_matrix\n",
    "\n",
    "df = pd.read_parquet('../01data/02preprocessed/01parquet/df_train.parquet')\n",
    "df.info()"
   ]
  },
  {
   "cell_type": "code",
   "execution_count": 28,
   "metadata": {},
   "outputs": [
    {
     "data": {
      "text/plain": [
       "(3360, 10239, 1006)"
      ]
     },
     "execution_count": 28,
     "metadata": {},
     "output_type": "execute_result"
    }
   ],
   "source": [
    "# Extract the year and month from 'fecha_compra'\n",
    "df['year'] = df['fecha_compra'].dt.year\n",
    "df['month'] = df['fecha_compra'].dt.month\n",
    "\n",
    "# Define the two periods\n",
    "period1 = df[(df['year'] == 2022) & (df['month'] == 2)]\n",
    "period2 = df[(df['year'] == 2023) & (df['month'] == 1)]\n",
    "\n",
    "# Get the unique customers in each period\n",
    "customers_period1 = set(period1['customer_id'].unique())\n",
    "customers_period2 = set(period2['customer_id'].unique())\n",
    "\n",
    "# Calculate the number of new, retained, and churned customers\n",
    "new_customers = customers_period2 - customers_period1\n",
    "retained_customers = customers_period1 & customers_period2\n",
    "churned_customers = customers_period1 - customers_period2\n",
    "\n",
    "len(new_customers), len(retained_customers), len(churned_customers)"
   ]
  },
  {
   "cell_type": "code",
   "execution_count": 29,
   "metadata": {},
   "outputs": [
    {
     "data": {
      "text/html": [
       "<div>\n",
       "<style scoped>\n",
       "    .dataframe tbody tr th:only-of-type {\n",
       "        vertical-align: middle;\n",
       "    }\n",
       "\n",
       "    .dataframe tbody tr th {\n",
       "        vertical-align: top;\n",
       "    }\n",
       "\n",
       "    .dataframe thead th {\n",
       "        text-align: right;\n",
       "    }\n",
       "</style>\n",
       "<table border=\"1\" class=\"dataframe\">\n",
       "  <thead>\n",
       "    <tr style=\"text-align: right;\">\n",
       "      <th></th>\n",
       "      <th>customer_id</th>\n",
       "      <th>order_count</th>\n",
       "      <th>first_order_month</th>\n",
       "      <th>last_order_month</th>\n",
       "      <th>unique_products</th>\n",
       "      <th>num_months</th>\n",
       "    </tr>\n",
       "  </thead>\n",
       "  <tbody>\n",
       "    <tr>\n",
       "      <th>0</th>\n",
       "      <td>1</td>\n",
       "      <td>828</td>\n",
       "      <td>2022-02-01</td>\n",
       "      <td>2023-01-28</td>\n",
       "      <td>176</td>\n",
       "      <td>12</td>\n",
       "    </tr>\n",
       "    <tr>\n",
       "      <th>1</th>\n",
       "      <td>10</td>\n",
       "      <td>136</td>\n",
       "      <td>2022-02-03</td>\n",
       "      <td>2023-02-02</td>\n",
       "      <td>69</td>\n",
       "      <td>12</td>\n",
       "    </tr>\n",
       "    <tr>\n",
       "      <th>2</th>\n",
       "      <td>100</td>\n",
       "      <td>317</td>\n",
       "      <td>2022-02-03</td>\n",
       "      <td>2023-01-24</td>\n",
       "      <td>170</td>\n",
       "      <td>11</td>\n",
       "    </tr>\n",
       "    <tr>\n",
       "      <th>3</th>\n",
       "      <td>1000</td>\n",
       "      <td>427</td>\n",
       "      <td>2022-02-01</td>\n",
       "      <td>2023-02-03</td>\n",
       "      <td>197</td>\n",
       "      <td>12</td>\n",
       "    </tr>\n",
       "    <tr>\n",
       "      <th>4</th>\n",
       "      <td>10000</td>\n",
       "      <td>63</td>\n",
       "      <td>2022-02-11</td>\n",
       "      <td>2023-02-01</td>\n",
       "      <td>32</td>\n",
       "      <td>11</td>\n",
       "    </tr>\n",
       "  </tbody>\n",
       "</table>\n",
       "</div>"
      ],
      "text/plain": [
       "  customer_id  order_count first_order_month last_order_month  \\\n",
       "0           1          828        2022-02-01       2023-01-28   \n",
       "1          10          136        2022-02-03       2023-02-02   \n",
       "2         100          317        2022-02-03       2023-01-24   \n",
       "3        1000          427        2022-02-01       2023-02-03   \n",
       "4       10000           63        2022-02-11       2023-02-01   \n",
       "\n",
       "   unique_products  num_months  \n",
       "0              176          12  \n",
       "1               69          12  \n",
       "2              170          11  \n",
       "3              197          12  \n",
       "4               32          11  "
      ]
     },
     "execution_count": 29,
     "metadata": {},
     "output_type": "execute_result"
    }
   ],
   "source": [
    "# For each customer, calculate the metrics\n",
    "customer_metrics = df.groupby('customer_id').agg({\n",
    "    'fecha_compra': ['count', 'min', 'max'],\n",
    "    'product_id': lambda x: x.nunique()\n",
    "}).reset_index()\n",
    "\n",
    "# Rename the columns\n",
    "customer_metrics.columns = ['customer_id', 'order_count', 'first_order_month', 'last_order_month', 'unique_products']\n",
    "\n",
    "# Calculate the number of months in which each customer appears\n",
    "customer_metrics['num_months'] = (customer_metrics['last_order_month'] - customer_metrics['first_order_month']).dt.days // 30\n",
    "\n",
    "customer_metrics.head()"
   ]
  },
  {
   "cell_type": "code",
   "execution_count": 30,
   "metadata": {},
   "outputs": [
    {
     "data": {
      "image/png": "[encoded data removed]",
      "text/plain": [
       "<Figure size 1440x1080 with 6 Axes>"
      ]
     },
     "metadata": {},
     "output_type": "display_data"
    }
   ],
   "source": [
    "# Let's plot the distributions of the calculated metrics\n",
    "import matplotlib.pyplot as plt\n",
    "import seaborn as sns\n",
    "\n",
    "# Set the style of the plots\n",
    "sns.set_style(\"whitegrid\")\n",
    "\n",
    "# Create subplots\n",
    "fig, axes = plt.subplots(3, 2, figsize=(20, 15))\n",
    "\n",
    "# Plot the distribution of the order count\n",
    "sns.histplot(data=customer_metrics, x='order_count', ax=axes[0, 0], kde=True)\n",
    "sns.boxplot(data=customer_metrics, x='order_count', ax=axes[0, 1])\n",
    "\n",
    "# Plot the distribution of the unique products\n",
    "sns.histplot(data=customer_metrics, x='unique_products', ax=axes[1, 0], kde=True)\n",
    "sns.boxplot(data=customer_metrics, x='unique_products', ax=axes[1, 1])\n",
    "\n",
    "# Plot the distribution of the number of months\n",
    "sns.histplot(data=customer_metrics, x='num_months', ax=axes[2, 0], kde=True)\n",
    "sns.boxplot(data=customer_metrics, x='num_months', ax=axes[2, 1])\n",
    "\n",
    "# Set the titles\n",
    "axes[0, 0].set_title('Distribution of Order Count')\n",
    "axes[0, 1].set_title('Boxplot of Order Count')\n",
    "axes[1, 0].set_title('Distribution of Unique Products')\n",
    "axes[1, 1].set_title('Boxplot of Unique Products')\n",
    "axes[2, 0].set_title('Distribution of Number of Months')\n",
    "axes[2, 1].set_title('Boxplot of Number of Months')\n",
    "\n",
    "plt.tight_layout()\n",
    "plt.show()"
   ]
  },
  {
   "cell_type": "code",
   "execution_count": 55,
   "metadata": {},
   "outputs": [
    {
     "data": {
      "image/png": "[encoded data removed]",
      "text/plain": [
       "<Figure size 864x360 with 2 Axes>"
      ]
     },
     "metadata": {},
     "output_type": "display_data"
    },
    {
     "data": {
      "image/png": "[encoded data removed]",
      "text/plain": [
       "<Figure size 864x720 with 4 Axes>"
      ]
     },
     "metadata": {},
     "output_type": "display_data"
    }
   ],
   "source": [
    "# Importing required libraries\n",
    "import matplotlib.pyplot as plt\n",
    "import seaborn as sns\n",
    "import pandas as pd\n",
    "import numpy as np\n",
    "\n",
    "# Function definition\n",
    "def analyze_sales_data(df):\n",
    "    # Convert 'fecha_compra' to datetime format\n",
    "    df['fecha_compra'] = pd.to_datetime(df['fecha_compra'], format='%Y/%m/%d')\n",
    "\n",
    "    # Extract the day of week from 'fecha_compra'\n",
    "    df['day_of_week'] = df['fecha_compra'].dt.dayofweek\n",
    "    df['week_of_month'] = df['fecha_compra'].dt.day // 7\n",
    "\n",
    "    # Calculate the total sales quantity and amount for each day of the week\n",
    "    sales_quantity_by_dow = df.groupby('day_of_week')['cantidad_venta'].sum()\n",
    "    sales_amount_by_dow = df.groupby('day_of_week')['monto_venta_transf'].sum()\n",
    "\n",
    "    # Generate the bar plots\n",
    "    fig, axs = plt.subplots(2, 1, figsize=(12, 5))\n",
    "\n",
    "    sns.barplot(x=sales_quantity_by_dow.index, y=sales_quantity_by_dow.values, ax=axs[0])\n",
    "    axs[0].set_title('Total Sales Quantity by Day of Week')\n",
    "    axs[0].set_xticklabels(['Mon', 'Tue', 'Wed', 'Thu', 'Fri', 'Sat', 'Sun'])\n",
    "\n",
    "    sns.barplot(x=sales_amount_by_dow.index, y=sales_amount_by_dow.values, ax=axs[1])\n",
    "    axs[1].set_title('Total Sales Amount by Day of Week')\n",
    "    axs[1].set_xticklabels(['Mon', 'Tue', 'Wed', 'Thu', 'Fri', 'Sat', 'Sun'])\n",
    "\n",
    "    plt.tight_layout()\n",
    "    plt.show()\n",
    "\n",
    "    # Extract the month from 'fecha_compra'\n",
    "    df['month'] = df['fecha_compra'].dt.month\n",
    "\n",
    "    # Calculate the total sales quantity and amount for the first week of each month\n",
    "    first_week_sales_quantity = df[df['week_of_month'] == 0].groupby('month')['cantidad_venta'].sum()\n",
    "    first_week_sales_amount = df[df['week_of_month'] == 0].groupby('month')['monto_venta_transf'].sum()\n",
    "\n",
    "    # Calculate the total sales quantity and amount for the rest of each month\n",
    "    rest_weeks_sales_quantity = df[df['week_of_month'] != 0].groupby('month')['cantidad_venta'].sum()\n",
    "    rest_weeks_sales_amount = df[df['week_of_month'] != 0].groupby('month')['monto_venta_transf'].sum()\n",
    "\n",
    "    # Calculate the mean sales quantity and amount for the rest of each month\n",
    "    rest_weeks_sales_quantity_mean = df[df['week_of_month'] != 0].groupby(['month','week_of_month'])['cantidad_venta'].sum().groupby('month').mean()\n",
    "    rest_weeks_sales_amount_mean = df[df['week_of_month'] != 0].groupby(['month','week_of_month'])['monto_venta_transf'].sum().groupby('month').mean()\n",
    "\n",
    "    # Generate the bar plots\n",
    "    fig, axs = plt.subplots(4, 1, figsize=(12, 10))\n",
    "\n",
    "    axs[0].bar(first_week_sales_quantity.index-0.2, first_week_sales_quantity.values, width=0.4, label='First Week')\n",
    "    axs[0].bar(rest_weeks_sales_quantity.index+0.2, rest_weeks_sales_quantity.values, width=0.4, label='Rest of Month')\n",
    "    axs[0].set_title('Total Sales Quantity for First Week vs Rest of Month')\n",
    "    axs[0].legend()\n",
    "\n",
    "    axs[1].bar(first_week_sales_amount.index-0.2, first_week_sales_amount.values, width=0.4, label='First Week')\n",
    "    axs[1].bar(rest_weeks_sales_amount.index+0.2, rest_weeks_sales_amount.values, width=0.4, label='Rest of Month')\n",
    "    axs[1].set_title('Total Sales Amount for First Week vs Rest of Month')\n",
    "    axs[1].legend()\n",
    "\n",
    "    axs[2].bar(first_week_sales_quantity.index-0.2, first_week_sales_quantity.values, width=0.4, label='First Week')\n",
    "    axs[2].bar(rest_weeks_sales_quantity_mean.index+0.2, rest_weeks_sales_quantity_mean.values, width=0.4, label='Rest of Month')\n",
    "    axs[2].set_title('Mean Sales Quantity for First Week vs Rest of Month')\n",
    "    axs[2].legend()\n",
    "\n",
    "    axs[3].bar(first_week_sales_amount.index-0.2, first_week_sales_amount.values, width=0.4, label='First Week')\n",
    "    axs[3].bar(rest_weeks_sales_amount_mean.index+0.2, rest_weeks_sales_amount_mean.values, width=0.4, label='Rest of Month')\n",
    "    axs[3].set_title('Mean Sales Amount for First Week vs Rest of Month')\n",
    "    axs[3].legend()\n",
    "\n",
    "    plt.tight_layout()\n",
    "    plt.show()\n",
    "\n",
    "    return None\n",
    "\n",
    "# Call the function\n",
    "analyze_sales_data(df)"
   ]
  },
  {
   "cell_type": "markdown",
   "metadata": {},
   "source": [
    "* **Ventas totales por día de la semana**: En cuanto a la cantidad de ventas, los días de semana (de lunes a viernes) tienen un comportamiento muy similar, siendo el martes el día con la mayor cantidad de ventas. El fin de semana (sábado y domingo) muestra una disminución notable en las ventas. En términos del monto total de ventas, la tendencia es similar, aunque el jueves supera al martes como el día con el mayor monto de ventas.\n",
    "\n",
    "* **Ventas totales de la primera semana versus el resto del mes**: Al comparar las ventas de la primera semana de cada mes con las del resto del mes, se observa que las ventas en la primera semana son generalmente más bajas tanto en cantidad como en monto. Sin embargo, al observar el promedio de ventas en la primera semana versus el promedio del resto del mes, vemos que la primera semana tiene un rendimiento similar o incluso superior en algunos meses. Esto sugiere que la primera semana de cada mes puede tener un impacto importante en las ventas totales del mes."
   ]
  },
  {
   "cell_type": "code",
   "execution_count": 51,
   "metadata": {},
   "outputs": [
    {
     "data": {
      "text/plain": [
       "month\n",
       "1     9.688799e+05\n",
       "2     7.299935e+05\n",
       "3     8.967794e+05\n",
       "4     8.032917e+05\n",
       "5     9.498525e+05\n",
       "6     9.872734e+05\n",
       "7     9.211847e+05\n",
       "8     9.955027e+05\n",
       "9     1.013312e+06\n",
       "10    1.077140e+06\n",
       "11    1.045627e+06\n",
       "12    9.588753e+05\n",
       "Name: monto_venta_transf, dtype: float64"
      ]
     },
     "execution_count": 51,
     "metadata": {},
     "output_type": "execute_result"
    }
   ],
   "source": [
    "df[df['week_of_month'] != 0].groupby(['month','week_of_month'])['monto_venta_transf'].sum().groupby('month').mean()"
   ]
  },
  {
   "cell_type": "code",
   "execution_count": 25,
   "metadata": {},
   "outputs": [
    {
     "data": {
      "text/plain": [
       "15312"
      ]
     },
     "execution_count": 25,
     "metadata": {},
     "output_type": "execute_result"
    }
   ],
   "source": [
    "df.customer_id.nunique()"
   ]
  },
  {
   "cell_type": "code",
   "execution_count": 2,
   "metadata": {},
   "outputs": [
    {
     "data": {
      "text/plain": [
       "(15312, 50)"
      ]
     },
     "execution_count": 2,
     "metadata": {},
     "output_type": "execute_result"
    }
   ],
   "source": [
    "# Group the data by 'customer_id' and 'product_id' and sum the 'cantidad_venta'\n",
    "df_train_grouped = df.groupby(['customer_id', 'product_id'])['cantidad_venta'].sum().reset_index()\n",
    "\n",
    "# Create a user-product interaction matrix\n",
    "interaction_matrix = df_train_grouped.pivot(index='customer_id', columns='product_id', values='cantidad_venta')\n",
    "\n",
    "# Fill missing values with 0\n",
    "interaction_matrix.fillna(0, inplace=True)\n",
    "\n",
    "# Convert to csr matrix\n",
    "interaction_matrix_csr = csr_matrix(interaction_matrix.values)\n",
    "\n",
    "# Apply SVD\n",
    "svd = TruncatedSVD(n_components=50, random_state=42)  # 50 components\n",
    "interaction_matrix_decomposed = svd.fit_transform(interaction_matrix_csr)\n",
    "\n",
    "# Check the shape of the decomposed matrix\n",
    "interaction_matrix_decomposed.shape"
   ]
  },
  {
   "cell_type": "code",
   "execution_count": 5,
   "metadata": {},
   "outputs": [],
   "source": [
    "from sklearn.metrics.pairwise import cosine_similarity\n",
    "\n",
    "# Compute the similarity matrix\n",
    "similarity_matrix = cosine_similarity(interaction_matrix_decomposed)\n",
    "\n",
    "# Convert the similarity matrix to a DataFrame\n",
    "similarity_df = pd.DataFrame(similarity_matrix, index=interaction_matrix.index, columns=interaction_matrix.index)\n",
    "\n"
   ]
  },
  {
   "cell_type": "code",
   "execution_count": 16,
   "metadata": {},
   "outputs": [
    {
     "data": {
      "text/html": [
       "<div>\n",
       "<style scoped>\n",
       "    .dataframe tbody tr th:only-of-type {\n",
       "        vertical-align: middle;\n",
       "    }\n",
       "\n",
       "    .dataframe tbody tr th {\n",
       "        vertical-align: top;\n",
       "    }\n",
       "\n",
       "    .dataframe thead th {\n",
       "        text-align: right;\n",
       "    }\n",
       "</style>\n",
       "<table border=\"1\" class=\"dataframe\">\n",
       "  <thead>\n",
       "    <tr style=\"text-align: right;\">\n",
       "      <th></th>\n",
       "      <th>customer_id</th>\n",
       "      <th>recommended_products</th>\n",
       "    </tr>\n",
       "  </thead>\n",
       "  <tbody>\n",
       "    <tr>\n",
       "      <th>0</th>\n",
       "      <td>7157</td>\n",
       "      <td>[7157, 7621, 607, 5215, 10636, 13918, 3225, 89...</td>\n",
       "    </tr>\n",
       "    <tr>\n",
       "      <th>2</th>\n",
       "      <td>9382</td>\n",
       "      <td>[9382, 11520, 9363, 11610, 11403, 8195, 11521,...</td>\n",
       "    </tr>\n",
       "    <tr>\n",
       "      <th>5</th>\n",
       "      <td>10355</td>\n",
       "      <td>[10355, 9437, 9539, 10969, 5377, 9364, 13197, ...</td>\n",
       "    </tr>\n",
       "    <tr>\n",
       "      <th>7</th>\n",
       "      <td>9112</td>\n",
       "      <td>[9112, 11072, 8518, 12463, 3314, 630, 399, 742...</td>\n",
       "    </tr>\n",
       "    <tr>\n",
       "      <th>9</th>\n",
       "      <td>7298</td>\n",
       "      <td>[7298, 827, 8764, 955, 11747, 8559, 6421, 1115...</td>\n",
       "    </tr>\n",
       "  </tbody>\n",
       "</table>\n",
       "</div>"
      ],
      "text/plain": [
       "  customer_id                               recommended_products\n",
       "0        7157  [7157, 7621, 607, 5215, 10636, 13918, 3225, 89...\n",
       "2        9382  [9382, 11520, 9363, 11610, 11403, 8195, 11521,...\n",
       "5       10355  [10355, 9437, 9539, 10969, 5377, 9364, 13197, ...\n",
       "7        9112  [9112, 11072, 8518, 12463, 3314, 630, 399, 742...\n",
       "9        7298  [7298, 827, 8764, 955, 11747, 8559, 6421, 1115..."
      ]
     },
     "execution_count": 16,
     "metadata": {},
     "output_type": "execute_result"
    }
   ],
   "source": [
    "# Calculate the most sold products\n",
    "most_sold_products = df.groupby('product_id')['cantidad_venta'].sum().sort_values(ascending=False).head(30).index\n",
    "\n",
    "# Convert to list\n",
    "most_sold_products = most_sold_products.tolist()\n",
    "\n",
    "# Function to get the top-N similar products\n",
    "def get_top_n_similar_products(customer_id, top_n):\n",
    "    if customer_id in similarity_df.index:\n",
    "        # Get the similarity scores for the customer\n",
    "        similarity_scores = similarity_df[customer_id]\n",
    "\n",
    "        # Sort the products by similarity score and get the top-N products\n",
    "        top_n_products = similarity_scores.sort_values(ascending=False).head(top_n).index.tolist()\n",
    "    else:\n",
    "        # If the customer_id is not in the similarity matrix, return the most sold products\n",
    "        top_n_products = most_sold_products\n",
    "\n",
    "    return top_n_products\n",
    "\n",
    "\n",
    "# Get the top-50 similar products for each customer\n",
    "df_submit = df[['customer_id']].drop_duplicates()\n",
    "df_submit['recommended_products'] = df_submit['customer_id'].apply(lambda x: get_top_n_similar_products(x, 30))\n",
    "\n",
    "df_submit.head()"
   ]
  },
  {
   "cell_type": "code",
   "execution_count": 17,
   "metadata": {},
   "outputs": [],
   "source": [
    "df_submit.columns = ['customer_id', 'product_id']"
   ]
  },
  {
   "cell_type": "code",
   "execution_count": 21,
   "metadata": {},
   "outputs": [],
   "source": [
    "## transform column product_id to string replace symbol [ and ,\n",
    "df_submit['product_id'] = df_submit['product_id'].apply(lambda x: str(x).replace(\"'\", '').replace('[', '').replace(']', '').replace(',', ''))"
   ]
  },
  {
   "cell_type": "code",
   "execution_count": 22,
   "metadata": {},
   "outputs": [],
   "source": [
    "df_submit.to_parquet('../01data/03result/envio01.parquet', index=False)"
   ]
  },
  {
   "cell_type": "code",
   "execution_count": 23,
   "metadata": {},
   "outputs": [
    {
     "data": {
      "text/html": [
       "<div>\n",
       "<style scoped>\n",
       "    .dataframe tbody tr th:only-of-type {\n",
       "        vertical-align: middle;\n",
       "    }\n",
       "\n",
       "    .dataframe tbody tr th {\n",
       "        vertical-align: top;\n",
       "    }\n",
       "\n",
       "    .dataframe thead th {\n",
       "        text-align: right;\n",
       "    }\n",
       "</style>\n",
       "<table border=\"1\" class=\"dataframe\">\n",
       "  <thead>\n",
       "    <tr style=\"text-align: right;\">\n",
       "      <th></th>\n",
       "      <th>customer_id</th>\n",
       "      <th>product_id</th>\n",
       "    </tr>\n",
       "  </thead>\n",
       "  <tbody>\n",
       "    <tr>\n",
       "      <th>0</th>\n",
       "      <td>7157</td>\n",
       "      <td>7157 7621 607 5215 10636 13918 3225 89 6304 36...</td>\n",
       "    </tr>\n",
       "    <tr>\n",
       "      <th>2</th>\n",
       "      <td>9382</td>\n",
       "      <td>9382 11520 9363 11610 11403 8195 11521 11974 9...</td>\n",
       "    </tr>\n",
       "    <tr>\n",
       "      <th>5</th>\n",
       "      <td>10355</td>\n",
       "      <td>10355 9437 9539 10969 5377 9364 13197 6306 126...</td>\n",
       "    </tr>\n",
       "    <tr>\n",
       "      <th>7</th>\n",
       "      <td>9112</td>\n",
       "      <td>9112 11072 8518 12463 3314 630 399 7429 9033 5...</td>\n",
       "    </tr>\n",
       "    <tr>\n",
       "      <th>9</th>\n",
       "      <td>7298</td>\n",
       "      <td>7298 827 8764 955 11747 8559 6421 11152 11545 ...</td>\n",
       "    </tr>\n",
       "  </tbody>\n",
       "</table>\n",
       "</div>"
      ],
      "text/plain": [
       "  customer_id                                         product_id\n",
       "0        7157  7157 7621 607 5215 10636 13918 3225 89 6304 36...\n",
       "2        9382  9382 11520 9363 11610 11403 8195 11521 11974 9...\n",
       "5       10355  10355 9437 9539 10969 5377 9364 13197 6306 126...\n",
       "7        9112  9112 11072 8518 12463 3314 630 399 7429 9033 5...\n",
       "9        7298  7298 827 8764 955 11747 8559 6421 11152 11545 ..."
      ]
     },
     "execution_count": 23,
     "metadata": {},
     "output_type": "execute_result"
    }
   ],
   "source": [
    "df_submit.head()"
   ]
  },
  {
   "cell_type": "code",
   "execution_count": 26,
   "metadata": {},
   "outputs": [
    {
     "name": "stdout",
     "output_type": "stream",
     "text": [
      "<class 'pandas.core.frame.DataFrame'>\n",
      "Int64Index: 15312 entries, 0 to 2094834\n",
      "Data columns (total 2 columns):\n",
      " #   Column       Non-Null Count  Dtype \n",
      "---  ------       --------------  ----- \n",
      " 0   customer_id  15312 non-null  object\n",
      " 1   product_id   15312 non-null  object\n",
      "dtypes: object(2)\n",
      "memory usage: 358.9+ KB\n"
     ]
    }
   ],
   "source": [
    "df_submit.info()"
   ]
  },
  {
   "cell_type": "code",
   "execution_count": 56,
   "metadata": {},
   "outputs": [
    {
     "data": {
      "text/plain": [
       "((2084124, 14), (41342, 14), (42382, 14))"
      ]
     },
     "execution_count": 56,
     "metadata": {},
     "output_type": "execute_result"
    }
   ],
   "source": [
    "# Define the split dates\n",
    "train_end = pd.to_datetime('2023-01-22')\n",
    "validation_end = pd.to_datetime('2023-01-29')\n",
    "\n",
    "# Split the data\n",
    "train_data = df[df['fecha_compra'] <= train_end]\n",
    "validation_data = df[(df['fecha_compra'] > train_end) & (df['fecha_compra'] <= validation_end)]\n",
    "test_data = df[df['fecha_compra'] > validation_end]\n",
    "\n",
    "train_data.shape, validation_data.shape, test_data.shape"
   ]
  },
  {
   "cell_type": "code",
   "execution_count": 57,
   "metadata": {},
   "outputs": [
    {
     "name": "stdout",
     "output_type": "stream",
     "text": [
      "Recall: 0.001649620587264929\n"
     ]
    }
   ],
   "source": [
    "from surprise import Dataset, Reader, SVD\n",
    "from surprise.model_selection import cross_validate, train_test_split\n",
    "from collections import defaultdict\n",
    "\n",
    "def get_top_n(predictions, n=50):\n",
    "    \"\"\"Return the top-N recommendation for each user from a set of predictions.\n",
    "\n",
    "    Args:\n",
    "    predictions(list of Prediction objects): The list of predictions, as\n",
    "        returned by the test method of an algorithm.\n",
    "    n(int): The number of recommendation to output for each user. Default\n",
    "        is 50.\n",
    "\n",
    "    Returns:\n",
    "    A dict where keys are user (raw) ids and values are lists of tuples:\n",
    "        [(raw item id, rating estimation), ...] of size n.\n",
    "    \"\"\"\n",
    "\n",
    "    # First map the predictions to each user.\n",
    "    top_n = defaultdict(list)\n",
    "    for uid, iid, true_r, est, _ in predictions:\n",
    "        top_n[uid].append((iid, est))\n",
    "\n",
    "    # Then sort the predictions for each user and retrieve the k highest ones.\n",
    "    for uid, user_ratings in top_n.items():\n",
    "        user_ratings.sort(key=lambda x: x[1], reverse=True)\n",
    "        top_n[uid] = user_ratings[:n]\n",
    "\n",
    "    return top_n\n",
    "\n",
    "def recall_at_n(top_n, testset, n=50):\n",
    "    \"\"\"Return the recall at n over all users\n",
    "\n",
    "    Args:\n",
    "    top_n: A dict of dicts where keys are user (raw) ids and values are\n",
    "        lists of tuples: [(raw item id, rating estimation), ...] of size n.\n",
    "    testset: A list of tuples: (user, item, rating).\n",
    "    n: The number of recommendation to consider per user, 50 by default.\n",
    "\n",
    "    Returns:\n",
    "    The recall.\n",
    "    \"\"\"\n",
    "\n",
    "    user_est_true = defaultdict(list)\n",
    "    for uid, _, true_r in testset:\n",
    "        user_est_true[uid].append((uid, true_r))\n",
    "\n",
    "    hits = 0\n",
    "    total = 0\n",
    "    for uid, user_ratings in user_est_true.items():\n",
    "        tmp = set([iid for (iid, _) in user_ratings])\n",
    "        est = set([iid for (iid, _) in top_n[uid]])\n",
    "        hits += len(tmp.intersection(est))\n",
    "        total += len(tmp)\n",
    "\n",
    "    return hits / total\n",
    "\n",
    "# Load the trainset in the surprise format\n",
    "reader = Reader(rating_scale=(df[\"cantidad_venta\"].min(), df[\"cantidad_venta\"].max()))\n",
    "data = Dataset.load_from_df(df[[\"customer_id\", \"product_id\", \"cantidad_venta\"]], reader)\n",
    "\n",
    "# Split the data into train and test\n",
    "trainset, testset = train_test_split(data, test_size=0.2)\n",
    "\n",
    "# Train a SVD model\n",
    "algo = SVD()\n",
    "algo.fit(trainset)\n",
    "\n",
    "# Predict ratings for all pairs (u, i) that are NOT in the training set.\n",
    "predictions = algo.test(testset)\n",
    "\n",
    "# Compute top-50 recommendation for each user\n",
    "top_n = get_top_n(predictions, n=50)\n",
    "\n",
    "# Compute and print the recall at 50\n",
    "recall = recall_at_n(top_n, testset, n=50)\n",
    "print(f'Recall: {recall}')"
   ]
  },
  {
   "cell_type": "code",
   "execution_count": 60,
   "metadata": {},
   "outputs": [
    {
     "name": "stdout",
     "output_type": "stream",
     "text": [
      "Recall: 0.6688554210220956\n"
     ]
    }
   ],
   "source": [
    "from sklearn.decomposition import TruncatedSVD\n",
    "from scipy.sparse import csr_matrix\n",
    "from sklearn.metrics.pairwise import cosine_similarity\n",
    "from typing import List, Tuple\n",
    "\n",
    "def create_utility_matrix(data: pd.DataFrame) -> pd.DataFrame:\n",
    "    \"\"\"Create a utility matrix from transaction data\"\"\"\n",
    "    utility_matrix = data.pivot_table(values='cantidad_venta', index='customer_id', columns='product_id', fill_value=0)\n",
    "    return utility_matrix\n",
    "\n",
    "def svd_based_cf(utility_matrix: pd.DataFrame, n_components: int=50) -> Tuple[pd.DataFrame, pd.DataFrame]:\n",
    "    \"\"\"Create user and item latent factor matrices using SVD\"\"\"\n",
    "    # Apply SVD\n",
    "    svd = TruncatedSVD(n_components=n_components)\n",
    "    utility_matrix_svd = svd.fit_transform(utility_matrix)\n",
    "\n",
    "    # Create user and item latent factor matrices\n",
    "    user_latent_matrix = pd.DataFrame(\n",
    "        utility_matrix_svd,\n",
    "        index=utility_matrix.index\n",
    "    )\n",
    "    item_latent_matrix = pd.DataFrame(\n",
    "        svd.components_.T,\n",
    "        index=utility_matrix.columns\n",
    "    )\n",
    "\n",
    "    return user_latent_matrix, item_latent_matrix\n",
    "\n",
    "def predict_scores(user_latent_matrix: pd.DataFrame, item_latent_matrix: pd.DataFrame) -> pd.DataFrame:\n",
    "    \"\"\"Predict scores for each user-item pair\"\"\"\n",
    "    # Calculate user-item scores\n",
    "    scores = pd.DataFrame(\n",
    "        np.dot(user_latent_matrix.values, item_latent_matrix.values.T),\n",
    "        index=user_latent_matrix.index,\n",
    "        columns=item_latent_matrix.index\n",
    "    )\n",
    "\n",
    "    return scores\n",
    "\n",
    "def get_top_n_items(scores: pd.DataFrame, n: int=50) -> dict:\n",
    "    \"\"\"Get top n items for each user\"\"\"\n",
    "    top_n_items = {}\n",
    "    for user in scores.index:\n",
    "        top_n_items[user] = scores.loc[user].nlargest(n).index.tolist()\n",
    "\n",
    "    return top_n_items\n",
    "\n",
    "def calculate_recall(top_n_items: dict, actual_items: dict, n: int=50) -> float:\n",
    "    \"\"\"Calculate average recall\"\"\"\n",
    "    user_recall = []\n",
    "    for user, recommended_items in top_n_items.items():\n",
    "        if user in actual_items:\n",
    "            hits = len(set(recommended_items) & set(actual_items[user]))\n",
    "            total = len(set(actual_items[user]))\n",
    "            user_recall.append(hits / total if total != 0 else 0)\n",
    "\n",
    "    recall = np.mean(user_recall)\n",
    "\n",
    "    return recall\n",
    "\n",
    "# Divide the data into train and test based on the date\n",
    "df_train = df.set_index('fecha_compra')\n",
    "\n",
    "# Train data is all data before 2023-02-06\n",
    "df_train_data = df_train.loc[df_train.index < '2023-01-22']\n",
    "\n",
    "# Test data is all data from 2023-02-06 to 2023-02-12\n",
    "df_test_data = df_train.loc[(df_train.index >= '2023-01-22') & (df_train.index <= '2023-01-29')]\n",
    "\n",
    "# Create utility matrix for train data\n",
    "utility_matrix_train = create_utility_matrix(df_train_data)\n",
    "\n",
    "# Apply SVD and get user and item latent factor matrices\n",
    "user_latent_matrix, item_latent_matrix = svd_based_cf(utility_matrix_train)\n",
    "\n",
    "# Predict scores\n",
    "scores = predict_scores(user_latent_matrix, item_latent_matrix)\n",
    "\n",
    "# Get top 50 items for each user\n",
    "top_50_items = get_top_n_items(scores)\n",
    "\n",
    "# Calculate average recall\n",
    "actual_items = df_test_data.groupby('customer_id')['product_id'].apply(list).to_dict()\n",
    "recall = calculate_recall(top_50_items, actual_items)\n",
    "print(f'Recall: {recall}')"
   ]
  },
  {
   "cell_type": "code",
   "execution_count": 62,
   "metadata": {},
   "outputs": [
    {
     "data": {
      "text/plain": [
       "customer_id\n",
       "1        [510, 848, 752, 116, 999, 743, 285, 294, 343, ...\n",
       "100                              [96, 203, 1025, 426, 428]\n",
       "10001                       [203, 356, 282, 276, 280, 146]\n",
       "10002                                           [659, 252]\n",
       "10004    [167, 771, 989, 166, 183, 139, 194, 114, 113, ...\n",
       "                               ...                        \n",
       "9991                                    [39, 119, 39, 672]\n",
       "9992                                            [840, 619]\n",
       "9996                                                 [915]\n",
       "9997                                  [128, 151, 122, 987]\n",
       "9998     [147, 497, 659, 439, 11, 195, 129, 53, 167, 88...\n",
       "Name: product_id, Length: 7906, dtype: object"
      ]
     },
     "execution_count": 62,
     "metadata": {},
     "output_type": "execute_result"
    }
   ],
   "source": [
    "df_test_data.groupby('customer_id')['product_id'].apply(list)"
   ]
  },
  {
   "cell_type": "code",
   "execution_count": 58,
   "metadata": {},
   "outputs": [
    {
     "name": "stdout",
     "output_type": "stream",
     "text": [
      "Recall: 0.0\n"
     ]
    }
   ],
   "source": [
    "\n",
    "# Import libraries\n",
    "from surprise import SVD, Dataset, Reader\n",
    "from surprise.model_selection import train_test_split\n",
    "from collections import defaultdict\n",
    "import pandas as pd\n",
    "\n",
    "# Create sample data\n",
    "data = pd.DataFrame({\n",
    "    'customer_id': ['1', '1', '1', '2', '2', '2', '3', '3', '3'],\n",
    "    'product_id': ['101', '102', '103', '101', '104', '105', '102', '103', '104'],\n",
    "    'rating': [5, 4, 5, 3, 2, 5, 4, 5, 3]\n",
    "})\n",
    "\n",
    "# Define a function to convert the DataFrame into a Surprise dataset\n",
    "def df_to_surprise_data(df, reader):\n",
    "    return Dataset.load_from_df(df[['customer_id', 'product_id', 'rating']], reader)\n",
    "\n",
    "# Define a function to train the SVD model\n",
    "def train_svd(data, n_factors=100, n_epochs=20):\n",
    "    trainset = data.build_full_trainset()\n",
    "    model = SVD(n_factors=n_factors, n_epochs=n_epochs)\n",
    "    model.fit(trainset)\n",
    "    return model\n",
    "\n",
    "# Define a function to get the top-N recommendations for each user\n",
    "def get_top_n(predictions, n=10):\n",
    "    top_n = defaultdict(list)\n",
    "    for uid, iid, true_r, est, _ in predictions:\n",
    "        top_n[uid].append((iid, est))\n",
    "    for uid, user_ratings in top_n.items():\n",
    "        user_ratings.sort(key=lambda x: x[1], reverse=True)\n",
    "        top_n[uid] = user_ratings[:n]\n",
    "    return top_n\n",
    "\n",
    "# Define a function to calculate the recall\n",
    "def calculate_recall(top_n, actual):\n",
    "    recalls = []\n",
    "    for uid, user_ratings in top_n.items():\n",
    "        recommended = set([iid for (iid, _) in user_ratings])\n",
    "        bought = set(actual[uid])\n",
    "        recalls.append(len(recommended & bought) / len(bought))\n",
    "    return np.mean(recalls)\n",
    "\n",
    "# Convert the DataFrame into a Surprise dataset\n",
    "reader = Reader(rating_scale=(1, 5))\n",
    "data_surprise = df_to_surprise_data(data, reader)\n",
    "\n",
    "# Train the SVD model\n",
    "model = train_svd(data_surprise)\n",
    "\n",
    "# Get the top-30 recommendations for each user\n",
    "testset = data_surprise.build_full_trainset().build_anti_testset()\n",
    "predictions = model.test(testset)\n",
    "top_n = get_top_n(predictions, n=30)\n",
    "\n",
    "# Calculate the actual items bought by each user in the last month\n",
    "actual = data.groupby('customer_id')['product_id'].apply(list).to_dict()\n",
    "\n",
    "# Calculate the recall\n",
    "recall = calculate_recall(top_n, actual)\n",
    "print('Recall:', recall)\n"
   ]
  },
  {
   "cell_type": "code",
   "execution_count": 1,
   "metadata": {},
   "outputs": [],
   "source": [
    "import pandas as pd\n",
    "import helps.log_experiments as log\n",
    "\n",
    "df_log =  pd.read_parquet('../01data/04log_experiments/experiment_log.parquet')"
   ]
  },
  {
   "cell_type": "code",
   "execution_count": 5,
   "metadata": {},
   "outputs": [
    {
     "name": "stdout",
     "output_type": "stream",
     "text": [
      "01data/04log_experiments\\experiment_log.parquet\n"
     ]
    },
    {
     "data": {
      "text/html": [
       "<div>\n",
       "<style scoped>\n",
       "    .dataframe tbody tr th:only-of-type {\n",
       "        vertical-align: middle;\n",
       "    }\n",
       "\n",
       "    .dataframe tbody tr th {\n",
       "        vertical-align: top;\n",
       "    }\n",
       "\n",
       "    .dataframe thead th {\n",
       "        text-align: right;\n",
       "    }\n",
       "</style>\n",
       "<table border=\"1\" class=\"dataframe\">\n",
       "  <thead>\n",
       "    <tr style=\"text-align: right;\">\n",
       "      <th></th>\n",
       "      <th>id_experimento</th>\n",
       "      <th>tablas_en_memoria</th>\n",
       "      <th>recall_experimento</th>\n",
       "      <th>algoritmos</th>\n",
       "      <th>fecha</th>\n",
       "      <th>additional_info</th>\n",
       "    </tr>\n",
       "  </thead>\n",
       "  <tbody>\n",
       "    <tr>\n",
       "      <th>0</th>\n",
       "      <td>20230730122009</td>\n",
       "      <td>[]</td>\n",
       "      <td>0.5</td>\n",
       "      <td>[SVD]</td>\n",
       "      <td>2023-07-30 12:20:09.141278</td>\n",
       "      <td>This is a test experiment.</td>\n",
       "    </tr>\n",
       "    <tr>\n",
       "      <th>1</th>\n",
       "      <td>20230730122340</td>\n",
       "      <td>[]</td>\n",
       "      <td>0.5</td>\n",
       "      <td>[SVD]</td>\n",
       "      <td>2023-07-30 12:23:40.139582</td>\n",
       "      <td>This is a test experiment.</td>\n",
       "    </tr>\n",
       "    <tr>\n",
       "      <th>2</th>\n",
       "      <td>20230730122459</td>\n",
       "      <td>[]</td>\n",
       "      <td>0.5</td>\n",
       "      <td>[SVD]</td>\n",
       "      <td>2023-07-30 12:24:59.967193</td>\n",
       "      <td>This is a test experiment.</td>\n",
       "    </tr>\n",
       "    <tr>\n",
       "      <th>3</th>\n",
       "      <td>20230730122636</td>\n",
       "      <td>[]</td>\n",
       "      <td>0.5</td>\n",
       "      <td>[SVD]</td>\n",
       "      <td>2023-07-30 12:26:36.326030</td>\n",
       "      <td>This is a test experiment.</td>\n",
       "    </tr>\n",
       "  </tbody>\n",
       "</table>\n",
       "</div>"
      ],
      "text/plain": [
       "   id_experimento tablas_en_memoria  recall_experimento algoritmos  \\\n",
       "0  20230730122009                []                 0.5      [SVD]   \n",
       "1  20230730122340                []                 0.5      [SVD]   \n",
       "2  20230730122459                []                 0.5      [SVD]   \n",
       "3  20230730122636                []                 0.5      [SVD]   \n",
       "\n",
       "                       fecha             additional_info  \n",
       "0 2023-07-30 12:20:09.141278  This is a test experiment.  \n",
       "1 2023-07-30 12:23:40.139582  This is a test experiment.  \n",
       "2 2023-07-30 12:24:59.967193  This is a test experiment.  \n",
       "3 2023-07-30 12:26:36.326030  This is a test experiment.  "
      ]
     },
     "execution_count": 5,
     "metadata": {},
     "output_type": "execute_result"
    }
   ],
   "source": [
    "import os\n",
    "log_dir = '01data/04log_experiments'\n",
    "log_file = 'experiment_log.parquet'\n",
    "\n",
    "# Check if the log file exists\n",
    "log_path = os.path.join(log_dir, log_file)\n",
    "print(log_path)\n",
    "\n",
    "pd.read_parquet(log_path)"
   ]
  },
  {
   "cell_type": "code",
   "execution_count": 3,
   "metadata": {},
   "outputs": [
    {
     "name": "stdout",
     "output_type": "stream",
     "text": [
      "01data/04log_experiments\\experiment_log.parquet\n"
     ]
    },
    {
     "data": {
      "text/html": [
       "<div>\n",
       "<style scoped>\n",
       "    .dataframe tbody tr th:only-of-type {\n",
       "        vertical-align: middle;\n",
       "    }\n",
       "\n",
       "    .dataframe tbody tr th {\n",
       "        vertical-align: top;\n",
       "    }\n",
       "\n",
       "    .dataframe thead th {\n",
       "        text-align: right;\n",
       "    }\n",
       "</style>\n",
       "<table border=\"1\" class=\"dataframe\">\n",
       "  <thead>\n",
       "    <tr style=\"text-align: right;\">\n",
       "      <th></th>\n",
       "      <th>id_experimento</th>\n",
       "      <th>recall_experimento</th>\n",
       "      <th>algoritmos</th>\n",
       "      <th>fecha</th>\n",
       "      <th>tablas_en_memoria</th>\n",
       "      <th>objetos_en_memoria</th>\n",
       "      <th>additional_info</th>\n",
       "    </tr>\n",
       "  </thead>\n",
       "  <tbody>\n",
       "    <tr>\n",
       "      <th>0</th>\n",
       "      <td>20230730201436</td>\n",
       "      <td>0.7</td>\n",
       "      <td>[SVD]</td>\n",
       "      <td>2023-07-30 20:14:36.563165</td>\n",
       "      <td>[{'name': '_', 'rows': 2, 'cols': 7, 'size': 2...</td>\n",
       "      <td>[{'name': 'In', 'type': 'list', 'size': 96, 'v...</td>\n",
       "      <td>This is a test experiment.</td>\n",
       "    </tr>\n",
       "  </tbody>\n",
       "</table>\n",
       "</div>"
      ],
      "text/plain": [
       "   id_experimento  recall_experimento algoritmos                      fecha  \\\n",
       "0  20230730201436                 0.7      [SVD] 2023-07-30 20:14:36.563165   \n",
       "\n",
       "                                   tablas_en_memoria  \\\n",
       "0  [{'name': '_', 'rows': 2, 'cols': 7, 'size': 2...   \n",
       "\n",
       "                                  objetos_en_memoria  \\\n",
       "0  [{'name': 'In', 'type': 'list', 'size': 96, 'v...   \n",
       "\n",
       "              additional_info  \n",
       "0  This is a test experiment.  "
      ]
     },
     "execution_count": 3,
     "metadata": {},
     "output_type": "execute_result"
    }
   ],
   "source": [
    "log.log_experiment(0.7, ['SVD'], 'This is a test experiment.')"
   ]
  },
  {
   "cell_type": "code",
   "execution_count": 4,
   "metadata": {},
   "outputs": [],
   "source": [
    "df_log = pd.read_parquet('../01data/04log_experiments/experiment_log.parquet')\n"
   ]
  },
  {
   "cell_type": "code",
   "execution_count": 5,
   "metadata": {},
   "outputs": [
    {
     "data": {
      "text/html": [
       "<div>\n",
       "<style scoped>\n",
       "    .dataframe tbody tr th:only-of-type {\n",
       "        vertical-align: middle;\n",
       "    }\n",
       "\n",
       "    .dataframe tbody tr th {\n",
       "        vertical-align: top;\n",
       "    }\n",
       "\n",
       "    .dataframe thead th {\n",
       "        text-align: right;\n",
       "    }\n",
       "</style>\n",
       "<table border=\"1\" class=\"dataframe\">\n",
       "  <thead>\n",
       "    <tr style=\"text-align: right;\">\n",
       "      <th></th>\n",
       "      <th>id_experimento</th>\n",
       "      <th>recall_experimento</th>\n",
       "      <th>algoritmos</th>\n",
       "      <th>fecha</th>\n",
       "      <th>tablas_en_memoria</th>\n",
       "      <th>objetos_en_memoria</th>\n",
       "      <th>additional_info</th>\n",
       "    </tr>\n",
       "  </thead>\n",
       "  <tbody>\n",
       "    <tr>\n",
       "      <th>0</th>\n",
       "      <td>20230730201436</td>\n",
       "      <td>0.7</td>\n",
       "      <td>[SVD]</td>\n",
       "      <td>2023-07-30 20:14:36.563165</td>\n",
       "      <td>[{'name': '_', 'rows': 2, 'cols': 7, 'size': 2...</td>\n",
       "      <td>[{'name': 'In', 'type': 'list', 'size': 96, 'v...</td>\n",
       "      <td>This is a test experiment.</td>\n",
       "    </tr>\n",
       "  </tbody>\n",
       "</table>\n",
       "</div>"
      ],
      "text/plain": [
       "   id_experimento  recall_experimento algoritmos                      fecha  \\\n",
       "0  20230730201436                 0.7      [SVD] 2023-07-30 20:14:36.563165   \n",
       "\n",
       "                                   tablas_en_memoria  \\\n",
       "0  [{'name': '_', 'rows': 2, 'cols': 7, 'size': 2...   \n",
       "\n",
       "                                  objetos_en_memoria  \\\n",
       "0  [{'name': 'In', 'type': 'list', 'size': 96, 'v...   \n",
       "\n",
       "              additional_info  \n",
       "0  This is a test experiment.  "
      ]
     },
     "execution_count": 5,
     "metadata": {},
     "output_type": "execute_result"
    }
   ],
   "source": [
    "df_log"
   ]
  },
  {
   "cell_type": "code",
   "execution_count": 21,
   "metadata": {},
   "outputs": [
    {
     "data": {
      "text/plain": [
       "[{'name': 'df_log',\n",
       "  'rows': 4,\n",
       "  'cols': 6,\n",
       "  'size': 1720,\n",
       "  'columns': ['id_experimento',\n",
       "   'tablas_en_memoria',\n",
       "   'recall_experimento',\n",
       "   'algoritmos',\n",
       "   'fecha',\n",
       "   'additional_info'],\n",
       "  'first_record': {'id_experimento': '20230730123353',\n",
       "   'tablas_en_memoria': array([], dtype=object),\n",
       "   'recall_experimento': 0.5,\n",
       "   'algoritmos': array(['SVD'], dtype=object),\n",
       "   'fecha': Timestamp('2023-07-30 12:33:53.297370'),\n",
       "   'additional_info': 'This is a test experiment.'}},\n",
       " {'name': 'df',\n",
       "  'rows': 5,\n",
       "  'cols': 4,\n",
       "  'size': 466,\n",
       "  'columns': ['W', 'X', 'Y', 'Z'],\n",
       "  'first_record': {'W': -0.7863517314425121,\n",
       "   'X': -0.5425508778935109,\n",
       "   'Y': 0.2541460286994545,\n",
       "   'Z': 0.73809104104815}},\n",
       " {'name': 'df_example',\n",
       "  'rows': 5,\n",
       "  'cols': 4,\n",
       "  'size': 466,\n",
       "  'columns': ['W', 'X', 'Y', 'Z'],\n",
       "  'first_record': {'W': 0.14803548026622446,\n",
       "   'X': -1.8105972594294604,\n",
       "   'Y': -0.36161641677972506,\n",
       "   'Z': -0.032617426628593224}}]"
      ]
     },
     "execution_count": 21,
     "metadata": {},
     "output_type": "execute_result"
    }
   ],
   "source": [
    "# Import necessary libraries\n",
    "from IPython import get_ipython\n",
    "import pandas as pd\n",
    "import sys\n",
    "import re\n",
    "\n",
    "def get_dataframes_in_memory():\n",
    "    # Get the IPython instance\n",
    "    ipython = get_ipython()\n",
    "\n",
    "    # Get all interactive variables\n",
    "    all_vars = ipython.user_ns\n",
    "\n",
    "    # Filter out everything that is not a DataFrame\n",
    "    dataframes = {name: var for name, var in all_vars.items()\n",
    "                  if isinstance(var, pd.DataFrame)}\n",
    "\n",
    "    # Create a list of dictionaries, each containing information about one DataFrame\n",
    "    df_info = [{'name': name, 'rows': df.shape[0], 'cols': df.shape[1], \n",
    "                'size': sys.getsizeof(df), 'columns': list(df.columns),\n",
    "                'first_record': df.iloc[0].to_dict() if not df.empty else None}\n",
    "               for name, df in dataframes.items() if not re.match(r'^_\\d+$', name)]\n",
    "\n",
    "    return df_info\n",
    "\n",
    "# Create a DataFrame as an example\n",
    "df_example = pd.DataFrame(np.random.randn(5,4),\n",
    "                          index='A B C D E'.split(),\n",
    "                          columns='W X Y Z'.split())\n",
    "\n",
    "# Call the function to get information about all DataFrames in memory\n",
    "dataframes_info = get_dataframes_in_memory()\n",
    "dataframes_info\n"
   ]
  },
  {
   "cell_type": "code",
   "execution_count": null,
   "metadata": {},
   "outputs": [],
   "source": []
  },
  {
   "cell_type": "code",
   "execution_count": 25,
   "metadata": {},
   "outputs": [],
   "source": [
    "random = 123\n",
    "nombre = 'Camila'"
   ]
  },
  {
   "cell_type": "code",
   "execution_count": 3,
   "metadata": {},
   "outputs": [],
   "source": [
    "import re\n",
    "import sys\n",
    "\n",
    "def get_other_objects_in_memory():\n",
    "    # Get the IPython instance\n",
    "    ipython = get_ipython()\n",
    "\n",
    "    # Get all interactive variables\n",
    "    all_vars = ipython.user_ns\n",
    "\n",
    "    # Filter out everything that is not a DataFrame and does not start with an underscore\n",
    "    other_objects = {name: var for name, var in all_vars.items()\n",
    "                     if not isinstance(var, pd.DataFrame) and not re.match(r'^_', name)\n",
    "                     and type(var).__name__ not in ['module', 'ZMQExitAutocall']}\n",
    "\n",
    "    # Create a list of dictionaries, each containing information about one object\n",
    "    obj_info = [{'name': name, 'type': type(obj).__name__, \n",
    "                 'size': sys.getsizeof(obj),\n",
    "                 'value': str(obj)[:100] + '...' if isinstance(obj, (str, list, dict, tuple, set)) else obj}\n",
    "                for name, obj in other_objects.items()]\n",
    "\n",
    "    return obj_info\n",
    "\n",
    "obj_info = get_other_objects_in_memory()"
   ]
  },
  {
   "cell_type": "code",
   "execution_count": 10,
   "metadata": {},
   "outputs": [],
   "source": [
    "import git\n",
    "import os\n",
    "repo = git.Repo(os.path.dirname(os.getcwd()))"
   ]
  },
  {
   "cell_type": "code",
   "execution_count": 12,
   "metadata": {},
   "outputs": [
    {
     "data": {
      "text/plain": [
       "''"
      ]
     },
     "execution_count": 12,
     "metadata": {},
     "output_type": "execute_result"
    }
   ],
   "source": [
    "repo.git.add(update=True)"
   ]
  },
  {
   "cell_type": "code",
   "execution_count": 13,
   "metadata": {},
   "outputs": [
    {
     "data": {
      "text/plain": [
       "<git.Commit \"ff4abb8e0d5d07aa2ce5322c541f84e6bfa4cde5\">"
      ]
     },
     "execution_count": 13,
     "metadata": {},
     "output_type": "execute_result"
    }
   ],
   "source": [
    "id_experimento =  'experimento_1'\n",
    "repo.index.commit(id_experimento)"
   ]
  },
  {
   "cell_type": "code",
   "execution_count": 16,
   "metadata": {},
   "outputs": [
    {
     "data": {
      "text/plain": [
       "[<git.remote.PushInfo at 0x18884f0fc20>]"
      ]
     },
     "execution_count": 16,
     "metadata": {},
     "output_type": "execute_result"
    }
   ],
   "source": [
    "origin = repo.remote(name='origin')\n",
    "origin.pull()\n",
    "origin.push()"
   ]
  },
  {
   "cell_type": "code",
   "execution_count": 4,
   "metadata": {},
   "outputs": [],
   "source": [
    "from kaggle.api.kaggle_api_extended import KaggleApi"
   ]
  },
  {
   "cell_type": "code",
   "execution_count": 5,
   "metadata": {},
   "outputs": [],
   "source": [
    "api = KaggleApi()\n",
    "api.authenticate()"
   ]
  },
  {
   "cell_type": "code",
   "execution_count": 6,
   "metadata": {},
   "outputs": [
    {
     "data": {
      "text/plain": [
       "[https://www.kaggle.com/competitions/asl-fingerspelling,\n",
       " https://www.kaggle.com/competitions/icr-identify-age-related-conditions,\n",
       " https://www.kaggle.com/competitions/commonlit-evaluate-student-summaries,\n",
       " https://www.kaggle.com/competitions/bengaliai-speech,\n",
       " https://www.kaggle.com/competitions/hubmap-hacking-the-human-vasculature,\n",
       " https://www.kaggle.com/competitions/google-research-identify-contrails-reduce-global-warming,\n",
       " https://www.kaggle.com/competitions/cafa-5-protein-function-prediction,\n",
       " https://www.kaggle.com/competitions/kaggle-llm-science-exam,\n",
       " https://www.kaggle.com/competitions/rsna-2023-abdominal-trauma-detection,\n",
       " https://www.kaggle.com/competitions/playground-series-s3e19,\n",
       " https://www.kaggle.com/competitions/titanic,\n",
       " https://www.kaggle.com/competitions/house-prices-advanced-regression-techniques,\n",
       " https://www.kaggle.com/competitions/spaceship-titanic,\n",
       " https://www.kaggle.com/competitions/digit-recognizer,\n",
       " https://www.kaggle.com/competitions/nlp-getting-started,\n",
       " https://www.kaggle.com/competitions/connectx,\n",
       " https://www.kaggle.com/competitions/tpu-getting-started,\n",
       " https://www.kaggle.com/competitions/store-sales-time-series-forecasting,\n",
       " https://www.kaggle.com/competitions/gan-getting-started,\n",
       " https://www.kaggle.com/competitions/contradictory-my-dear-watson]"
      ]
     },
     "execution_count": 6,
     "metadata": {},
     "output_type": "execute_result"
    }
   ],
   "source": [
    "api.competitions_list()"
   ]
  }
 ],
 "metadata": {
  "kernelspec": {
   "display_name": "base",
   "language": "python",
   "name": "python3"
  },
  "language_info": {
   "codemirror_mode": {
    "name": "ipython",
    "version": 3
   },
   "file_extension": ".py",
   "mimetype": "text/x-python",
   "name": "python",
   "nbconvert_exporter": "python",
   "pygments_lexer": "ipython3",
   "version": "3.8.8"
  },
  "orig_nbformat": 4
 },
 "nbformat": 4,
 "nbformat_minor": 2
}
