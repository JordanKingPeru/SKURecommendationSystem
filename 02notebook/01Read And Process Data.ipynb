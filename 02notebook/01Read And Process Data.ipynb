{
 "cells": [
  {
   "cell_type": "markdown",
   "metadata": {},
   "source": [
    "# Load and set data"
   ]
  },
  {
   "cell_type": "code",
   "execution_count": 2,
   "metadata": {},
   "outputs": [],
   "source": [
    "#load library and set config\n",
    "import pandas as pd\n",
    "import numpy as np\n",
    "from datetime import datetime\n",
    "\n",
    "pd.set_option(\"display.precision\", 9)\n",
    "date_parser = pd.to_datetime"
   ]
  },
  {
   "cell_type": "code",
   "execution_count": 4,
   "metadata": {},
   "outputs": [],
   "source": [
    "\n",
    "df_rentabilidad = pd.read_csv('../01data/01origin/RentabilidadProduct.csv',\n",
    "                                sep='|',\n",
    "                                encoding='utf-8',\n",
    "                                dtype={'product_id': 'str',\n",
    "                                        'family_id': 'str',\n",
    "                                        'negocio_id': 'str',\n",
    "                                        'category_id': 'str',\n",
    "                                        'tier_id': 'str',\n",
    "                                        'utilidad_bruta_transf': np.float64,})\n",
    "\n",
    "df_train = pd.read_csv('../01data/01origin/train.csv',\n",
    "                        sep='|',\n",
    "                        encoding='utf-8',\n",
    "                        dtype={'fecha_compra':'str',\n",
    "                                'customer_id':'str',\n",
    "                                'product_id':'str',\n",
    "                                'type_id':'str',\n",
    "                                'business_id':'str',\n",
    "                                'channel_id':'str',\n",
    "                                'cantidad_venta':np.float64,\n",
    "                                'monto_venta_transf':np.float64,\n",
    "                                'peso_venta_transf':np.float64,})\n",
    "\n",
    "df_train['fecha_compra'] = pd.to_datetime(df_train['fecha_compra'], format='%Y-%m-%d')\n",
    "\n",
    "df_submit = pd.read_csv('../01data/01origin/submit_example.csv')"
   ]
  },
  {
   "cell_type": "code",
   "execution_count": 31,
   "metadata": {},
   "outputs": [
    {
     "name": "stdout",
     "output_type": "stream",
     "text": [
      "<class 'pandas.core.frame.DataFrame'>\n",
      "RangeIndex: 937 entries, 0 to 936\n",
      "Data columns (total 6 columns):\n",
      " #   Column                 Non-Null Count  Dtype  \n",
      "---  ------                 --------------  -----  \n",
      " 0   product_id             937 non-null    object \n",
      " 1   family_id              937 non-null    object \n",
      " 2   negocio_id             937 non-null    object \n",
      " 3   category_id            937 non-null    object \n",
      " 4   tier_id                937 non-null    object \n",
      " 5   utilidad_bruta_transf  937 non-null    float64\n",
      "dtypes: float64(1), object(5)\n",
      "memory usage: 44.0+ KB\n"
     ]
    }
   ],
   "source": [
    "df_rentabilidad.info()"
   ]
  },
  {
   "cell_type": "code",
   "execution_count": 32,
   "metadata": {},
   "outputs": [
    {
     "data": {
      "text/html": [
       "<div>\n",
       "<style scoped>\n",
       "    .dataframe tbody tr th:only-of-type {\n",
       "        vertical-align: middle;\n",
       "    }\n",
       "\n",
       "    .dataframe tbody tr th {\n",
       "        vertical-align: top;\n",
       "    }\n",
       "\n",
       "    .dataframe thead th {\n",
       "        text-align: right;\n",
       "    }\n",
       "</style>\n",
       "<table border=\"1\" class=\"dataframe\">\n",
       "  <thead>\n",
       "    <tr style=\"text-align: right;\">\n",
       "      <th></th>\n",
       "      <th>product_id</th>\n",
       "      <th>family_id</th>\n",
       "      <th>negocio_id</th>\n",
       "      <th>category_id</th>\n",
       "      <th>tier_id</th>\n",
       "      <th>utilidad_bruta_transf</th>\n",
       "    </tr>\n",
       "  </thead>\n",
       "  <tbody>\n",
       "    <tr>\n",
       "      <th>0</th>\n",
       "      <td>881</td>\n",
       "      <td>1291</td>\n",
       "      <td>20</td>\n",
       "      <td>131</td>\n",
       "      <td>4</td>\n",
       "      <td>10.378016570</td>\n",
       "    </tr>\n",
       "    <tr>\n",
       "      <th>1</th>\n",
       "      <td>805</td>\n",
       "      <td>1224</td>\n",
       "      <td>20</td>\n",
       "      <td>131</td>\n",
       "      <td>3</td>\n",
       "      <td>10.177925190</td>\n",
       "    </tr>\n",
       "    <tr>\n",
       "      <th>2</th>\n",
       "      <td>892</td>\n",
       "      <td>1089</td>\n",
       "      <td>20</td>\n",
       "      <td>146</td>\n",
       "      <td>1</td>\n",
       "      <td>10.008242890</td>\n",
       "    </tr>\n",
       "    <tr>\n",
       "      <th>3</th>\n",
       "      <td>841</td>\n",
       "      <td>1224</td>\n",
       "      <td>20</td>\n",
       "      <td>131</td>\n",
       "      <td>3</td>\n",
       "      <td>7.698361552</td>\n",
       "    </tr>\n",
       "    <tr>\n",
       "      <th>4</th>\n",
       "      <td>830</td>\n",
       "      <td>1089</td>\n",
       "      <td>20</td>\n",
       "      <td>131</td>\n",
       "      <td>1</td>\n",
       "      <td>7.353677620</td>\n",
       "    </tr>\n",
       "  </tbody>\n",
       "</table>\n",
       "</div>"
      ],
      "text/plain": [
       "  product_id family_id negocio_id category_id tier_id  utilidad_bruta_transf\n",
       "0        881      1291         20         131       4           10.378016570\n",
       "1        805      1224         20         131       3           10.177925190\n",
       "2        892      1089         20         146       1           10.008242890\n",
       "3        841      1224         20         131       3            7.698361552\n",
       "4        830      1089         20         131       1            7.353677620"
      ]
     },
     "execution_count": 32,
     "metadata": {},
     "output_type": "execute_result"
    }
   ],
   "source": [
    "df_rentabilidad.head()"
   ]
  },
  {
   "cell_type": "code",
   "execution_count": 33,
   "metadata": {},
   "outputs": [
    {
     "name": "stdout",
     "output_type": "stream",
     "text": [
      "<class 'pandas.core.frame.DataFrame'>\n",
      "RangeIndex: 2167848 entries, 0 to 2167847\n",
      "Data columns (total 9 columns):\n",
      " #   Column              Dtype         \n",
      "---  ------              -----         \n",
      " 0   fecha_compra        datetime64[ns]\n",
      " 1   customer_id         object        \n",
      " 2   product_id          object        \n",
      " 3   type_id             object        \n",
      " 4   business_id         object        \n",
      " 5   channel_id          object        \n",
      " 6   cantidad_venta      float64       \n",
      " 7   monto_venta_transf  float64       \n",
      " 8   peso_venta_transf   float64       \n",
      "dtypes: datetime64[ns](1), float64(3), object(5)\n",
      "memory usage: 148.9+ MB\n"
     ]
    }
   ],
   "source": [
    "df_train.info()"
   ]
  },
  {
   "cell_type": "code",
   "execution_count": 34,
   "metadata": {},
   "outputs": [
    {
     "data": {
      "text/html": [
       "<div>\n",
       "<style scoped>\n",
       "    .dataframe tbody tr th:only-of-type {\n",
       "        vertical-align: middle;\n",
       "    }\n",
       "\n",
       "    .dataframe tbody tr th {\n",
       "        vertical-align: top;\n",
       "    }\n",
       "\n",
       "    .dataframe thead th {\n",
       "        text-align: right;\n",
       "    }\n",
       "</style>\n",
       "<table border=\"1\" class=\"dataframe\">\n",
       "  <thead>\n",
       "    <tr style=\"text-align: right;\">\n",
       "      <th></th>\n",
       "      <th>fecha_compra</th>\n",
       "      <th>customer_id</th>\n",
       "      <th>product_id</th>\n",
       "      <th>type_id</th>\n",
       "      <th>business_id</th>\n",
       "      <th>channel_id</th>\n",
       "      <th>cantidad_venta</th>\n",
       "      <th>monto_venta_transf</th>\n",
       "      <th>peso_venta_transf</th>\n",
       "    </tr>\n",
       "  </thead>\n",
       "  <tbody>\n",
       "    <tr>\n",
       "      <th>0</th>\n",
       "      <td>2022-01-31</td>\n",
       "      <td>7157</td>\n",
       "      <td>510</td>\n",
       "      <td>BO</td>\n",
       "      <td>21</td>\n",
       "      <td>V</td>\n",
       "      <td>1.0</td>\n",
       "      <td>0.153430522</td>\n",
       "      <td>0.005210848</td>\n",
       "    </tr>\n",
       "    <tr>\n",
       "      <th>1</th>\n",
       "      <td>2022-01-31</td>\n",
       "      <td>7157</td>\n",
       "      <td>512</td>\n",
       "      <td>BO</td>\n",
       "      <td>21</td>\n",
       "      <td>V</td>\n",
       "      <td>1.0</td>\n",
       "      <td>0.153430522</td>\n",
       "      <td>0.005210848</td>\n",
       "    </tr>\n",
       "    <tr>\n",
       "      <th>2</th>\n",
       "      <td>2022-01-31</td>\n",
       "      <td>9382</td>\n",
       "      <td>510</td>\n",
       "      <td>BO</td>\n",
       "      <td>21</td>\n",
       "      <td>V</td>\n",
       "      <td>1.0</td>\n",
       "      <td>0.153430522</td>\n",
       "      <td>0.005210848</td>\n",
       "    </tr>\n",
       "    <tr>\n",
       "      <th>3</th>\n",
       "      <td>2022-01-31</td>\n",
       "      <td>9382</td>\n",
       "      <td>512</td>\n",
       "      <td>BO</td>\n",
       "      <td>21</td>\n",
       "      <td>V</td>\n",
       "      <td>1.0</td>\n",
       "      <td>0.153430522</td>\n",
       "      <td>0.005210848</td>\n",
       "    </tr>\n",
       "    <tr>\n",
       "      <th>4</th>\n",
       "      <td>2022-01-31</td>\n",
       "      <td>9382</td>\n",
       "      <td>525</td>\n",
       "      <td>BO</td>\n",
       "      <td>21</td>\n",
       "      <td>V</td>\n",
       "      <td>1.0</td>\n",
       "      <td>0.153430522</td>\n",
       "      <td>0.005789831</td>\n",
       "    </tr>\n",
       "  </tbody>\n",
       "</table>\n",
       "</div>"
      ],
      "text/plain": [
       "  fecha_compra customer_id product_id type_id business_id channel_id  \\\n",
       "0   2022-01-31        7157        510      BO          21          V   \n",
       "1   2022-01-31        7157        512      BO          21          V   \n",
       "2   2022-01-31        9382        510      BO          21          V   \n",
       "3   2022-01-31        9382        512      BO          21          V   \n",
       "4   2022-01-31        9382        525      BO          21          V   \n",
       "\n",
       "   cantidad_venta  monto_venta_transf  peso_venta_transf  \n",
       "0             1.0         0.153430522        0.005210848  \n",
       "1             1.0         0.153430522        0.005210848  \n",
       "2             1.0         0.153430522        0.005210848  \n",
       "3             1.0         0.153430522        0.005210848  \n",
       "4             1.0         0.153430522        0.005789831  "
      ]
     },
     "execution_count": 34,
     "metadata": {},
     "output_type": "execute_result"
    }
   ],
   "source": [
    "df_train.head()"
   ]
  },
  {
   "cell_type": "code",
   "execution_count": 35,
   "metadata": {},
   "outputs": [
    {
     "data": {
      "text/html": [
       "<div>\n",
       "<style scoped>\n",
       "    .dataframe tbody tr th:only-of-type {\n",
       "        vertical-align: middle;\n",
       "    }\n",
       "\n",
       "    .dataframe tbody tr th {\n",
       "        vertical-align: top;\n",
       "    }\n",
       "\n",
       "    .dataframe thead th {\n",
       "        text-align: right;\n",
       "    }\n",
       "</style>\n",
       "<table border=\"1\" class=\"dataframe\">\n",
       "  <thead>\n",
       "    <tr style=\"text-align: right;\">\n",
       "      <th></th>\n",
       "      <th>customer_id</th>\n",
       "      <th>product_id</th>\n",
       "    </tr>\n",
       "  </thead>\n",
       "  <tbody>\n",
       "    <tr>\n",
       "      <th>0</th>\n",
       "      <td>1</td>\n",
       "      <td>10 15 70 30 77 890 194 88 915 926 1028 190 452...</td>\n",
       "    </tr>\n",
       "    <tr>\n",
       "      <th>1</th>\n",
       "      <td>2</td>\n",
       "      <td>5 9 70 456 414 404 452 194 119 190 890 406 116...</td>\n",
       "    </tr>\n",
       "    <tr>\n",
       "      <th>2</th>\n",
       "      <td>3</td>\n",
       "      <td>80 2 7 452 456 116 404 414 77 890 194 406 926 ...</td>\n",
       "    </tr>\n",
       "    <tr>\n",
       "      <th>3</th>\n",
       "      <td>4</td>\n",
       "      <td>600 400 1 12 404 414 406 203 116 77 459 890 42...</td>\n",
       "    </tr>\n",
       "    <tr>\n",
       "      <th>4</th>\n",
       "      <td>5</td>\n",
       "      <td>70 60 20 56 119 81 328 972 495 174 813 37 801 ...</td>\n",
       "    </tr>\n",
       "  </tbody>\n",
       "</table>\n",
       "</div>"
      ],
      "text/plain": [
       "   customer_id                                         product_id\n",
       "0            1  10 15 70 30 77 890 194 88 915 926 1028 190 452...\n",
       "1            2  5 9 70 456 414 404 452 194 119 190 890 406 116...\n",
       "2            3  80 2 7 452 456 116 404 414 77 890 194 406 926 ...\n",
       "3            4  600 400 1 12 404 414 406 203 116 77 459 890 42...\n",
       "4            5  70 60 20 56 119 81 328 972 495 174 813 37 801 ..."
      ]
     },
     "execution_count": 35,
     "metadata": {},
     "output_type": "execute_result"
    }
   ],
   "source": [
    "df_submit.head()"
   ]
  },
  {
   "cell_type": "markdown",
   "metadata": {},
   "source": [
    "## Set real test for Kaggle"
   ]
  },
  {
   "cell_type": "code",
   "execution_count": 37,
   "metadata": {},
   "outputs": [],
   "source": [
    "# create function to save dateframe to parquet\n",
    "def save_parquet(df, path, filename):\n",
    "    df.to_parquet(path + filename + '.parquet', engine='pyarrow', compression='snappy')\n",
    "    return\n",
    "#apply function save_parquet for 3 df\n",
    "save_parquet(df_rentabilidad, '../01data/02preprocessed/01parquet/', 'df_rentabilidad')\n",
    "save_parquet(df_train, '../01data/02preprocessed/01parquet/', 'df_train')\n",
    "save_parquet(df_submit, '../01data/02preprocessed/01parquet/', 'df_submit')"
   ]
  },
  {
   "cell_type": "code",
   "execution_count": 6,
   "metadata": {},
   "outputs": [],
   "source": [
    "# create function to save dateframe to csv and apply in all dataframe\n",
    "def save_csv(df, path, filename):\n",
    "    df.to_csv(path + filename + '.csv', sep='|', index=False)\n",
    "    return\n",
    "#apply function save_csv for 3 df\n",
    "save_csv(df_rentabilidad, '../01data/02preprocessed/', 'df_rentabilidad')\n",
    "save_csv(df_train, '../01data/02preprocessed/', 'df_train')\n",
    "save_csv(df_submit, '../01data/02preprocessed/', 'df_submit')\n"
   ]
  },
  {
   "cell_type": "code",
   "execution_count": 7,
   "metadata": {},
   "outputs": [],
   "source": [
    "#create a function to get a sample for all columns of dataframe df_train estratified by fecha_compra and product_id and save to csv\n",
    "def get_sample(df, path, filename, n):\n",
    "    df_sample = df.groupby(['fecha_compra', 'product_id'], group_keys=False).apply(lambda x: x.sample(min(len(x), n)))\n",
    "    df_sample.to_csv(path + filename + '.csv', sep='|', index=False)\n",
    "    return df_sample\n",
    "#apply function get_sample for df_train\n",
    "df_sample = get_sample(df_train, '../01data/02preprocessed/', 'df_train_sample', 100000)\n"
   ]
  },
  {
   "cell_type": "code",
   "execution_count": 31,
   "metadata": {},
   "outputs": [],
   "source": [
    "def stratified_sample_updated(df: pd.DataFrame, stratify_column: str, sample_size: int) -> pd.DataFrame:\n",
    "    \"\"\"\n",
    "    Function to get a stratified sample from a DataFrame.\n",
    "\n",
    "    Parameters:\n",
    "    df (pd.DataFrame): DataFrame from which to take the sample.\n",
    "    stratify_column (str): Column to use for stratification.\n",
    "    sample_size (int): Size of the sample to take.\n",
    "\n",
    "    Returns:\n",
    "    sample_df (pd.DataFrame): DataFrame containing the stratified sample.\n",
    "    \"\"\"\n",
    "    # Group the data by the stratify column and take a sample from each group\n",
    "    groups = df.groupby(stratify_column)\n",
    "    sample_df = pd.concat([\n",
    "        group.sample(min(len(group), sample_size), random_state=42) \n",
    "        for _, group in groups\n",
    "    ])\n",
    "\n",
    "    return sample_df\n",
    "\n",
    "sample_df_train = stratified_sample_updated(df_train, \"product_id\", 200)\n"
   ]
  },
  {
   "cell_type": "code",
   "execution_count": 33,
   "metadata": {},
   "outputs": [
    {
     "name": "stdout",
     "output_type": "stream",
     "text": [
      "(142526, 9)\n"
     ]
    }
   ],
   "source": [
    "print(sample_df_train.shape)\n",
    "save_csv(sample_df_train, '../01data/02preprocessed/', 'df_train_sample')"
   ]
  }
 ],
 "metadata": {
  "kernelspec": {
   "display_name": "base",
   "language": "python",
   "name": "python3"
  },
  "language_info": {
   "codemirror_mode": {
    "name": "ipython",
    "version": 3
   },
   "file_extension": ".py",
   "mimetype": "text/x-python",
   "name": "python",
   "nbconvert_exporter": "python",
   "pygments_lexer": "ipython3",
   "version": "3.8.8"
  },
  "orig_nbformat": 4
 },
 "nbformat": 4,
 "nbformat_minor": 2
}
